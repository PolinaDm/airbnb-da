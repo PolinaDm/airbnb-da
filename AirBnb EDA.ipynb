{
 "cells": [
  {
   "cell_type": "markdown",
   "id": "national-equation",
   "metadata": {},
   "source": [
    "Exploratory Data Analysis on AirBnb ratings & reviews dataset"
   ]
  },
  {
   "cell_type": "code",
   "execution_count": null,
   "id": "built-luxury",
   "metadata": {},
   "outputs": [],
   "source": [
    "import numpy as np\n",
    "import matplotlib as mpl\n",
    "import matplotlib.pyplot as plt\n",
    "import seaborn as sns \n",
    "import pandas as pd\n",
    "import scipy.stats\n",
    "\n",
    "df = pd.read_csv('/Users/v1teka/airbnb-ratings-dataset/LA_Listings.csv', \n",
    "                 encoding='ISO-8859-1')\n",
    "df.head()"
   ]
  },
  {
   "cell_type": "code",
   "execution_count": null,
   "id": "central-mexico",
   "metadata": {},
   "outputs": [],
   "source": [
    "# Read the NY_Listings.csv\n",
    "df2 = pd.read_csv('/Users/v1teka/airbnb-ratings-dataset/NY_Listings.csv', \n",
    "                  encoding='ISO-8859-1')\n",
    "df2.head()"
   ]
  },
  {
   "cell_type": "code",
   "execution_count": null,
   "id": "prescribed-turkey",
   "metadata": {},
   "outputs": [],
   "source": [
    "# Read the airbnb_ratings_new.csv\n",
    "df3 = pd.read_csv('/Users/v1teka/airbnb-ratings-dataset/airbnb_ratings_new.csv', \n",
    "                  encoding='ISO-8859-1')\n",
    "pd.set_option('display.max_columns', None)\n",
    "df3.head()"
   ]
  },
  {
   "cell_type": "markdown",
   "id": "magnetic-vaccine",
   "metadata": {},
   "source": [
    "As the prices varies a lot in different countries It is reasonably to consider only USA listings"
   ]
  },
  {
   "cell_type": "code",
   "execution_count": null,
   "id": "august-still",
   "metadata": {},
   "outputs": [],
   "source": [
    "df_filtered = df3[df3['Country'] == 'United States']\n",
    "\n",
    "df_filtered.head()"
   ]
  },
  {
   "cell_type": "code",
   "execution_count": null,
   "id": "atlantic-devon",
   "metadata": {},
   "outputs": [],
   "source": [
    "df.describe()"
   ]
  },
  {
   "cell_type": "code",
   "execution_count": null,
   "id": "defensive-marketplace",
   "metadata": {},
   "outputs": [],
   "source": [
    "df2.describe()"
   ]
  },
  {
   "cell_type": "code",
   "execution_count": null,
   "id": "accredited-small",
   "metadata": {},
   "outputs": [],
   "source": [
    "df_filtered.describe()"
   ]
  },
  {
   "cell_type": "markdown",
   "id": "nonprofit-stanley",
   "metadata": {},
   "source": [
    "Now, let's combine those three datasets into one:"
   ]
  },
  {
   "cell_type": "code",
   "execution_count": null,
   "id": "senior-resident",
   "metadata": {},
   "outputs": [],
   "source": [
    "combinedDf = df.append(df2)\n",
    "df_final = combinedDf.append(df_filtered)\n",
    "\n",
    "df_final.describe()"
   ]
  },
  {
   "cell_type": "markdown",
   "id": "involved-night",
   "metadata": {},
   "source": [
    "Now, 'df_final' has 295,452 lines of data and ready to use."
   ]
  },
  {
   "cell_type": "markdown",
   "id": "provincial-lloyd",
   "metadata": {},
   "source": [
    "Let's do exploratory data analysis by examine the correlation between Price with number of bedrooms, bathrooms and review scores."
   ]
  },
  {
   "cell_type": "code",
   "execution_count": null,
   "id": "marine-medicine",
   "metadata": {},
   "outputs": [],
   "source": [
    "# Density Plot and Histogram of variable \"Price\"\n",
    "sns.distplot(df_final['Price'], hist=True, kde=True, \n",
    "             bins=int(180/5), color = 'darkblue', \n",
    "             hist_kws={'edgecolor':'black'},\n",
    "             kde_kws={'linewidth': 1})"
   ]
  },
  {
   "cell_type": "markdown",
   "id": "close-juvenile",
   "metadata": {},
   "source": [
    "From the graph we can see, becaue of the large range of 'Price', we need to filter those unnessary data which could influence our analysis. After observation, we found set the range from 0 to 500 is appropriate."
   ]
  },
  {
   "cell_type": "code",
   "execution_count": null,
   "id": "imported-chocolate",
   "metadata": {},
   "outputs": [],
   "source": [
    "# Filter the Price to below 500\n",
    "PriceFilteredData = df_final[df_final['Price'] < 500]\n",
    "\n",
    "# Density Plot and Histogram of variable \"Price\"\n",
    "sns.distplot(PriceFilteredData['Price'], hist=True, kde=True, \n",
    "             bins=int(180/5), color = 'darkblue', \n",
    "             hist_kws={'edgecolor':'black'},\n",
    "             kde_kws={'linewidth': 1})"
   ]
  },
  {
   "cell_type": "markdown",
   "id": "comprehensive-calendar",
   "metadata": {},
   "source": [
    "Now, let's see the distribution of numbers of Bedrooms:"
   ]
  },
  {
   "cell_type": "code",
   "execution_count": null,
   "id": "pointed-russian",
   "metadata": {},
   "outputs": [],
   "source": [
    "# Density Plot and Histogram of variable \"Bedrooms\"\n",
    "sns.distplot(df_final['Bedrooms'], hist=True, kde=True, \n",
    "             bins=int(180/5), color = 'darkblue', \n",
    "             hist_kws={'edgecolor':'black'},\n",
    "             kde_kws={'linewidth': 1})"
   ]
  },
  {
   "cell_type": "markdown",
   "id": "presidential-chicken",
   "metadata": {},
   "source": [
    "We can see that most houses have bedrooms from 0 to 6, so let's filter the data"
   ]
  },
  {
   "cell_type": "code",
   "execution_count": null,
   "id": "inclusive-howard",
   "metadata": {},
   "outputs": [],
   "source": [
    "# Filter the Bedrooms to below 6\n",
    "BedroomsFilteredData = df_final[df_final['Bedrooms'] < 6]\n",
    "\n",
    "# Density Plot and Histogram of variable \"Price\"\n",
    "sns.distplot(PriceFilteredData['Bedrooms'], hist=True, kde=False, \n",
    "             bins=int(180/5), color = 'darkblue', \n",
    "             hist_kws={'edgecolor':'black'},\n",
    "             kde_kws={'linewidth': 1})"
   ]
  },
  {
   "cell_type": "markdown",
   "id": "filled-difficulty",
   "metadata": {},
   "source": [
    "From this graph, we can see that the shape of the distributions of 'Numbers of Bedrooms' and the distributions of 'Price' are very similar, which indicates the possibilities between them, and we will do further investigations later. Before that, let's do more distribution graph on other variables."
   ]
  },
  {
   "cell_type": "code",
   "execution_count": null,
   "id": "disabled-dealer",
   "metadata": {},
   "outputs": [],
   "source": [
    "# Filter the Bathrooms to below 6\n",
    "BedroomsFilteredData = df_final[df_final['Bathrooms'] < 6]\n",
    "\n",
    "# Density Plot and Histogram of variable \"Bathrooms\"\n",
    "sns.distplot(BedroomsFilteredData['Bathrooms'], hist= True, kde=False, \n",
    "             bins=int(180/5), color = 'darkblue', \n",
    "             hist_kws={'edgecolor':'black'},\n",
    "             kde_kws={'linewidth': 1})"
   ]
  },
  {
   "cell_type": "markdown",
   "id": "suited-export",
   "metadata": {},
   "source": [
    "Let's see the distribution with more varibles:"
   ]
  },
  {
   "cell_type": "code",
   "execution_count": null,
   "id": "hollow-carol",
   "metadata": {},
   "outputs": [],
   "source": [
    "# Density Plot and Histogram of variable \"Bedrooms\"\n",
    "sns.distplot(df_final['Availability 365'], hist=True, kde=True, \n",
    "             bins=int(180/5), color = 'darkblue', \n",
    "             hist_kws={'edgecolor':'black'},\n",
    "             kde_kws={'linewidth': 1})"
   ]
  },
  {
   "cell_type": "code",
   "execution_count": null,
   "id": "reported-california",
   "metadata": {},
   "outputs": [],
   "source": [
    "# Density Plot and Histogram of variable \"Review Scores Value\"\n",
    "sns.distplot(df_final['Review Scores Value'], hist=True, kde=True, \n",
    "             bins=int(180/5), color = 'darkblue', \n",
    "             hist_kws={'edgecolor':'black'},\n",
    "             kde_kws={'linewidth': 1})"
   ]
  },
  {
   "cell_type": "code",
   "execution_count": null,
   "id": "timely-judgment",
   "metadata": {},
   "outputs": [],
   "source": [
    "# Density Plot and Histogram of variable \"Review Scores Value\"\n",
    "sns.distplot(df_final['Reviews per month'], hist=True, kde=True, \n",
    "             bins=int(180/5), color = 'darkblue', \n",
    "             hist_kws={'edgecolor':'black'},\n",
    "             kde_kws={'linewidth': 1})"
   ]
  },
  {
   "cell_type": "markdown",
   "id": "different-flash",
   "metadata": {},
   "source": [
    "Let's filter the Varible:"
   ]
  },
  {
   "cell_type": "code",
   "execution_count": null,
   "id": "varying-casino",
   "metadata": {},
   "outputs": [],
   "source": [
    "# Filter the Bathrooms to below 6\n",
    "ReviewsFilteredData = df_final[df_final['Reviews per month'] < 10]\n",
    "\n",
    "\n",
    "# Density Plot and Histogram of variable \"Review Scores Value\"\n",
    "sns.distplot(ReviewsFilteredData['Reviews per month'], hist=True, \n",
    "             kde=True, \n",
    "             bins=int(180/5), color = 'darkblue', \n",
    "             hist_kws={'edgecolor':'black'},\n",
    "             kde_kws={'linewidth': 1})"
   ]
  },
  {
   "cell_type": "code",
   "execution_count": null,
   "id": "everyday-federal",
   "metadata": {},
   "outputs": [],
   "source": [
    "# Density Plot and Histogram of variable \"Review Scores Value\"\n",
    "sns.distplot(df_final['Number of reviews'], hist=True, kde=True, \n",
    "             bins=int(180/5), color = 'darkblue', \n",
    "             hist_kws={'edgecolor':'black'},\n",
    "             kde_kws={'linewidth': 1})"
   ]
  },
  {
   "cell_type": "markdown",
   "id": "suited-teens",
   "metadata": {},
   "source": [
    "Filter the data:"
   ]
  },
  {
   "cell_type": "code",
   "execution_count": null,
   "id": "quarterly-logging",
   "metadata": {},
   "outputs": [],
   "source": [
    "# Filter the Bathrooms to below 6\n",
    "ReviewsFilteredData = df_final[df_final['Number of reviews'] < 60]\n",
    "\n",
    "\n",
    "# Density Plot and Histogram of variable \"Review Scores Value\"\n",
    "sns.distplot(ReviewsFilteredData['Number of reviews'], hist=True, \n",
    "             kde=True, \n",
    "             bins=int(180/5), color = 'darkblue', \n",
    "             hist_kws={'edgecolor':'black'},\n",
    "             kde_kws={'linewidth': 1})"
   ]
  },
  {
   "cell_type": "markdown",
   "id": "conservative-statistics",
   "metadata": {},
   "source": [
    "We can see that most listing have 0 - 10 reviews.\n",
    "\n",
    "Next, let's do the correlation test to find out the potential correlation with _Spearman correlation test_:"
   ]
  },
  {
   "cell_type": "code",
   "execution_count": null,
   "id": "anonymous-cholesterol",
   "metadata": {},
   "outputs": [],
   "source": [
    "BedroomsFilteredData = PriceFilteredData[PriceFilteredData['Bedrooms'] < 6]\n",
    "BathroomsFilteredData = BedroomsFilteredData[BedroomsFilteredData['Bathrooms'] < 6]\n",
    "filteredData = BedroomsFilteredData[BedroomsFilteredData['Reviews per month'] < 10]\n",
    "filteredData.corr(method='spearman')"
   ]
  },
  {
   "cell_type": "markdown",
   "id": "nuclear-drama",
   "metadata": {},
   "source": [
    "From the result table, we found that *'Price'* and *'Accommodates'* have a correlation coefficient of 0.55, which indicates they are *moderately* correlated, and *'number of Bedrooms'* has a correlation coefficient of 0.46 with *'Price'*, which is the second highest value in all variables, which can be understand, because more bedrooms a house has, the higher the price can be, and more people a house can accommodates, more expensive it will be."
   ]
  }
 ],
 "metadata": {
  "kernelspec": {
   "display_name": "Python 3",
   "language": "python",
   "name": "python3"
  },
  "language_info": {
   "codemirror_mode": {
    "name": "ipython",
    "version": 3
   },
   "file_extension": ".py",
   "mimetype": "text/x-python",
   "name": "python",
   "nbconvert_exporter": "python",
   "pygments_lexer": "ipython3",
   "version": "3.8.5"
  }
 },
 "nbformat": 4,
 "nbformat_minor": 5
}
